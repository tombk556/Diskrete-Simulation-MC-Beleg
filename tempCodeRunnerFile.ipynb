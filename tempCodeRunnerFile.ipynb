HOT_YEAR = False
if HOT_YEAR:
    OFFSET = 15
else:
    OFFSET = 11